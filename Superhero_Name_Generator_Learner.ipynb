{
  "cells": [
    {
      "cell_type": "markdown",
      "metadata": {
        "id": "21XXWP7Fpt2L"
      },
      "source": [
        "# Superhero (and Supervillain) Name Generator\n",
        "\n",
        "---\n",
        "\n",
        "[Original Source: Superhero Names Dataset](https://github.com/am1tyadav/superhero)"
      ]
    },
    {
      "cell_type": "markdown",
      "metadata": {
        "id": "H6P0NU5Cpt2R"
      },
      "source": [
        "## Task 2 - Data and Tokenizer\n",
        "\n",
        "1. Import the data\n",
        "2. Create a tokenizer\n",
        "3. Char to index and Index to char dictionaries"
      ]
    },
    {
      "cell_type": "code",
      "execution_count": 1,
      "metadata": {
        "id": "srULhalZpt2M",
        "colab": {
          "base_uri": "https://localhost:8080/"
        },
        "outputId": "6b4664c7-a0b2-4bb9-d216-b865a879c60d"
      },
      "outputs": [
        {
          "output_type": "stream",
          "name": "stdout",
          "text": [
            "Cloning into 'Superhero-Name-Generator'...\n",
            "remote: Enumerating objects: 15, done.\u001b[K\n",
            "remote: Counting objects: 100% (15/15), done.\u001b[K\n",
            "remote: Compressing objects: 100% (13/13), done.\u001b[K\n",
            "remote: Total 15 (delta 2), reused 0 (delta 0), pack-reused 0\u001b[K\n",
            "Receiving objects: 100% (15/15), 78.55 KiB | 6.55 MiB/s, done.\n",
            "Resolving deltas: 100% (2/2), done.\n"
          ]
        }
      ],
      "source": [
        "!git clone https://github.com/tmittala/Superhero-Name-Generator"
      ]
    },
    {
      "cell_type": "code",
      "execution_count": 2,
      "metadata": {
        "id": "uq4CLmsLpt2P",
        "colab": {
          "base_uri": "https://localhost:8080/",
          "height": 35
        },
        "outputId": "95575373-2189-4f6a-a1b5-b6c203a1cbfa"
      },
      "outputs": [
        {
          "output_type": "execute_result",
          "data": {
            "text/plain": [
              "'jumpa\\t\\ndoctor fate\\t\\nstarlight\\t\\nisildur\\t\\nlasher\\t\\nvarvara\\t\\nthe target\\t\\naxel\\t\\nbattra\\t\\nchangeling\\t\\npyrrh'"
            ],
            "application/vnd.google.colaboratory.intrinsic+json": {
              "type": "string"
            }
          },
          "metadata": {},
          "execution_count": 2
        }
      ],
      "source": [
        "with open('Superhero-Name-Generator/superheroes.txt', 'r') as f:\n",
        "  data = f.read()\n",
        "\n",
        "data[:100]"
      ]
    },
    {
      "cell_type": "code",
      "execution_count": 3,
      "metadata": {
        "id": "JqhtLuAHpt2R",
        "colab": {
          "base_uri": "https://localhost:8080/"
        },
        "outputId": "26dd4c3f-3e44-460a-bea0-467360a18685"
      },
      "outputs": [
        {
          "output_type": "stream",
          "name": "stdout",
          "text": [
            "2.15.0\n"
          ]
        }
      ],
      "source": [
        "import tensorflow as tf\n",
        "print(tf.__version__)"
      ]
    },
    {
      "cell_type": "code",
      "execution_count": 4,
      "metadata": {
        "id": "95Lo1Yqzpt2T"
      },
      "outputs": [],
      "source": [
        "tokenizer = tf.keras.preprocessing.text.Tokenizer(\n",
        "    filters='!\"#$%&()*+,-./:;<=>?@[\\\\]^_`{|}~',\n",
        "    split='\\n',\n",
        ")"
      ]
    },
    {
      "cell_type": "code",
      "execution_count": 5,
      "metadata": {
        "id": "qYfC4sj2pt2V"
      },
      "outputs": [],
      "source": [
        "tokenizer.fit_on_texts(data)"
      ]
    },
    {
      "cell_type": "code",
      "execution_count": 6,
      "metadata": {
        "id": "EO4-dPM6pt2X",
        "colab": {
          "base_uri": "https://localhost:8080/"
        },
        "outputId": "df12016c-d54f-40eb-9dfe-61e3031bb259"
      },
      "outputs": [
        {
          "output_type": "stream",
          "name": "stdout",
          "text": [
            "{1: '\\t', 2: 'a', 3: 'e', 4: 'r', 5: 'o', 6: 'n', 7: 'i', 8: ' ', 9: 't', 10: 's', 11: 'l', 12: 'm', 13: 'h', 14: 'd', 15: 'c', 16: 'u', 17: 'g', 18: 'k', 19: 'b', 20: 'p', 21: 'y', 22: 'w', 23: 'f', 24: 'v', 25: 'j', 26: 'z', 27: 'x', 28: 'q'}\n"
          ]
        }
      ],
      "source": [
        "char_to_idx = tokenizer.word_index\n",
        "idx_to_char = dict((v,k) for k, v in char_to_idx.items())\n",
        "print(idx_to_char)    ## neural network model doesn't understand characters but only numbers, that's why we are mapping chars to numerical vals (indices)"
      ]
    },
    {
      "cell_type": "markdown",
      "metadata": {
        "id": "SMwtIw_Bpt2Z"
      },
      "source": [
        "## Task 3 - Names and Sequences\n",
        "\n",
        "1. Converting between names and sequences"
      ]
    },
    {
      "cell_type": "code",
      "execution_count": null,
      "metadata": {
        "id": "N7iQLIXzpt2a",
        "colab": {
          "base_uri": "https://localhost:8080/"
        },
        "outputId": "512b5c8e-6180-4d5c-b9c8-66d5670d4cf0"
      },
      "outputs": [
        {
          "output_type": "execute_result",
          "data": {
            "text/plain": [
              "['jumpa\\t',\n",
              " 'doctor fate\\t',\n",
              " 'starlight\\t',\n",
              " 'isildur\\t',\n",
              " 'lasher\\t',\n",
              " 'varvara\\t',\n",
              " 'the target\\t',\n",
              " 'axel\\t',\n",
              " 'battra\\t',\n",
              " 'changeling\\t']"
            ]
          },
          "metadata": {},
          "execution_count": 12
        }
      ],
      "source": [
        "names = data.splitlines()\n",
        "names[:10]"
      ]
    },
    {
      "cell_type": "code",
      "execution_count": null,
      "metadata": {
        "id": "n_-TTfqipt2c",
        "colab": {
          "base_uri": "https://localhost:8080/"
        },
        "outputId": "3f189cd5-6f4a-4167-91b7-5d95d01d2dda"
      },
      "outputs": [
        {
          "output_type": "execute_result",
          "data": {
            "text/plain": [
              "[[25], [16], [12], [20], [2], [1]]"
            ]
          },
          "metadata": {},
          "execution_count": 13
        }
      ],
      "source": [
        "tokenizer.texts_to_sequences(names[0])"
      ]
    },
    {
      "cell_type": "code",
      "execution_count": null,
      "metadata": {
        "id": "P6IsKH1Upt2e"
      },
      "outputs": [],
      "source": [
        "def name_to_seq(name):\n",
        "  return [tokenizer.texts_to_sequences(c)[0][0] for c in name]"
      ]
    },
    {
      "cell_type": "code",
      "execution_count": null,
      "metadata": {
        "id": "TuLUiMP3pt2g",
        "colab": {
          "base_uri": "https://localhost:8080/"
        },
        "outputId": "b082b716-87ea-4da5-9e7c-b0dbe655b072"
      },
      "outputs": [
        {
          "output_type": "execute_result",
          "data": {
            "text/plain": [
              "[25, 16, 12, 20, 2, 1]"
            ]
          },
          "metadata": {},
          "execution_count": 23
        }
      ],
      "source": [
        "name_to_seq(names[0])"
      ]
    },
    {
      "cell_type": "code",
      "execution_count": null,
      "metadata": {
        "id": "yFUYhimKpt2h"
      },
      "outputs": [],
      "source": [
        "def seq_to_name(seq):\n",
        "  return ''.join([idx_to_char[i] for i in seq if i != 0])"
      ]
    },
    {
      "cell_type": "code",
      "execution_count": null,
      "metadata": {
        "id": "ROhCqmhLpt2k",
        "colab": {
          "base_uri": "https://localhost:8080/",
          "height": 35
        },
        "outputId": "3465201e-f593-483a-d5dd-55c7c9f77b1a"
      },
      "outputs": [
        {
          "output_type": "execute_result",
          "data": {
            "text/plain": [
              "'jumpa\\t'"
            ],
            "application/vnd.google.colaboratory.intrinsic+json": {
              "type": "string"
            }
          },
          "metadata": {},
          "execution_count": 25
        }
      ],
      "source": [
        "seq_to_name(name_to_seq(names[0]))"
      ]
    },
    {
      "cell_type": "markdown",
      "metadata": {
        "id": "uCbAzsNjpt2m"
      },
      "source": [
        "## Task 4 - Creating Examples\n",
        "\n",
        "1. Creating sequences\n",
        "2. Padding all sequences"
      ]
    },
    {
      "cell_type": "code",
      "execution_count": null,
      "metadata": {
        "id": "zstNn-0dpt2m"
      },
      "outputs": [],
      "source": [
        "sequences = []\n",
        "\n",
        "for name in names:\n",
        "  seq = name_to_seq(name)\n",
        "  if len(seq) >= 2:\n",
        "    sequences += [seq[:i] for i in range(2, len(seq) + 1)]"
      ]
    },
    {
      "cell_type": "code",
      "execution_count": null,
      "metadata": {
        "id": "BjRTMysvpt2o",
        "colab": {
          "base_uri": "https://localhost:8080/"
        },
        "outputId": "607637f5-72a6-4a4e-edc4-8b51c5d1a314"
      },
      "outputs": [
        {
          "output_type": "execute_result",
          "data": {
            "text/plain": [
              "[[25, 16],\n",
              " [25, 16, 12],\n",
              " [25, 16, 12, 20],\n",
              " [25, 16, 12, 20, 2],\n",
              " [25, 16, 12, 20, 2, 1],\n",
              " [14, 5],\n",
              " [14, 5, 15],\n",
              " [14, 5, 15, 9],\n",
              " [14, 5, 15, 9, 5],\n",
              " [14, 5, 15, 9, 5, 4]]"
            ]
          },
          "metadata": {},
          "execution_count": 31
        }
      ],
      "source": [
        "sequences[:10]"
      ]
    },
    {
      "cell_type": "code",
      "execution_count": null,
      "metadata": {
        "id": "SR68pu2tpt2q",
        "colab": {
          "base_uri": "https://localhost:8080/"
        },
        "outputId": "184374d5-2100-45fb-a7fd-fed4d1ed63b6"
      },
      "outputs": [
        {
          "output_type": "stream",
          "name": "stdout",
          "text": [
            "33\n"
          ]
        }
      ],
      "source": [
        "max_len = max([len(x) for x in sequences])   ##finding max_len so that we can pad them and make all the vars same length rather than having variable length\n",
        "print(max_len)"
      ]
    },
    {
      "cell_type": "code",
      "execution_count": null,
      "metadata": {
        "id": "h_1BtWO7pt2r",
        "colab": {
          "base_uri": "https://localhost:8080/"
        },
        "outputId": "969dbecb-193f-45f5-ad82-2efbfbc23e13"
      },
      "outputs": [
        {
          "output_type": "stream",
          "name": "stdout",
          "text": [
            "[ 0  0  0  0  0  0  0  0  0  0  0  0  0  0  0  0  0  0  0  0  0  0  0  0\n",
            "  0  0  0  0  0  0  0 25 16]\n"
          ]
        }
      ],
      "source": [
        "padded_sequences = tf.keras.preprocessing.sequence.pad_sequences(\n",
        "    sequences, padding = 'pre',\n",
        "    maxlen = max_len\n",
        ")\n",
        "\n",
        "print(padded_sequences[0])"
      ]
    },
    {
      "cell_type": "code",
      "execution_count": null,
      "metadata": {
        "id": "sPlrLRpSpt2t",
        "colab": {
          "base_uri": "https://localhost:8080/"
        },
        "outputId": "e878d5ee-5e69-421e-b37c-a52a62a08d1c"
      },
      "outputs": [
        {
          "output_type": "execute_result",
          "data": {
            "text/plain": [
              "(88279, 33)"
            ]
          },
          "metadata": {},
          "execution_count": 35
        }
      ],
      "source": [
        "padded_sequences.shape"
      ]
    },
    {
      "cell_type": "markdown",
      "metadata": {
        "id": "SgUyQGDacuZn"
      },
      "source": [
        "## Task 5: Creating Training and Validation Sets\n",
        "\n",
        "1. Creating training and validation sets"
      ]
    },
    {
      "cell_type": "code",
      "execution_count": null,
      "metadata": {
        "id": "BE4BIeSnpt2v",
        "colab": {
          "base_uri": "https://localhost:8080/"
        },
        "outputId": "668a657f-fe93-4e3e-94db-0b267fc07351"
      },
      "outputs": [
        {
          "output_type": "stream",
          "name": "stdout",
          "text": [
            "(88279, 32) (88279,)\n"
          ]
        }
      ],
      "source": [
        "x, y = padded_sequences[:, :-1], padded_sequences[:, -1]\n",
        "print(x.shape, y.shape)"
      ]
    },
    {
      "cell_type": "code",
      "execution_count": null,
      "metadata": {
        "id": "5Fk8xJvCcuZo",
        "colab": {
          "base_uri": "https://localhost:8080/"
        },
        "outputId": "edeb56c6-e8ab-4555-dc19-c812de6dd9b9"
      },
      "outputs": [
        {
          "output_type": "stream",
          "name": "stdout",
          "text": [
            "(66209, 32) (66209,)\n",
            "(22070, 32) (22070,)\n"
          ]
        }
      ],
      "source": [
        "from sklearn.model_selection import train_test_split\n",
        "\n",
        "x_train, x_test, y_train, y_test = train_test_split(x, y)\n",
        "\n",
        "print(x_train.shape, y_train.shape)\n",
        "print(x_test.shape, y_test.shape)"
      ]
    },
    {
      "cell_type": "code",
      "execution_count": null,
      "metadata": {
        "id": "cgqRZtqnpt2x",
        "colab": {
          "base_uri": "https://localhost:8080/"
        },
        "outputId": "ef18e227-34b0-4494-82d7-9013e3005262"
      },
      "outputs": [
        {
          "output_type": "stream",
          "name": "stdout",
          "text": [
            "29\n"
          ]
        }
      ],
      "source": [
        "num_chars = len(char_to_idx.keys()) + 1\n",
        "print(num_chars)"
      ]
    },
    {
      "cell_type": "markdown",
      "metadata": {
        "id": "bTSKpb3IcuZo"
      },
      "source": [
        "## Task 6: Creating the Model"
      ]
    },
    {
      "cell_type": "code",
      "execution_count": null,
      "metadata": {
        "id": "3SZ2NV0pcuZo",
        "colab": {
          "base_uri": "https://localhost:8080/"
        },
        "outputId": "8ae229bf-0464-4dfe-bdf0-4f8da84fcc64"
      },
      "outputs": [
        {
          "output_type": "stream",
          "name": "stdout",
          "text": [
            "Model: \"sequential_1\"\n",
            "_________________________________________________________________\n",
            " Layer (type)                Output Shape              Param #   \n",
            "=================================================================\n",
            " embedding_2 (Embedding)     (None, 32, 8)             232       \n",
            "                                                                 \n",
            " conv1d (Conv1D)             (None, 32, 64)            2624      \n",
            "                                                                 \n",
            " max_pooling1d_1 (MaxPoolin  (None, 16, 64)            0         \n",
            " g1D)                                                            \n",
            "                                                                 \n",
            " lstm_1 (LSTM)               (None, 32)                12416     \n",
            "                                                                 \n",
            " dense_1 (Dense)             (None, 29)                957       \n",
            "                                                                 \n",
            "=================================================================\n",
            "Total params: 16229 (63.39 KB)\n",
            "Trainable params: 16229 (63.39 KB)\n",
            "Non-trainable params: 0 (0.00 Byte)\n",
            "_________________________________________________________________\n"
          ]
        }
      ],
      "source": [
        "from tensorflow.keras.models import Sequential\n",
        "from tensorflow.keras.layers import Embedding, MaxPool1D, LSTM\n",
        "from tensorflow.keras.layers import Bidirectional, Dense, Conv1D\n",
        "\n",
        "model = Sequential([\n",
        "                    Embedding(num_chars, 8, input_length = max_len - 1),\n",
        "                    Conv1D(64, 5, strides = 1, activation = 'tanh', padding = 'causal'),\n",
        "                    MaxPool1D(2),\n",
        "                    LSTM(32),\n",
        "                    Dense(num_chars, activation = 'softmax')\n",
        "])\n",
        "\n",
        "model.compile(\n",
        "    loss = 'sparse_categorical_crossentropy',\n",
        "    optimizer = 'adam',\n",
        "    metrics = ['accuracy']\n",
        ")\n",
        "\n",
        "model.summary()"
      ]
    },
    {
      "cell_type": "markdown",
      "metadata": {
        "id": "Uwt2jZxCcuZo"
      },
      "source": [
        "\n",
        "## Task 7: Training the Model"
      ]
    },
    {
      "cell_type": "code",
      "execution_count": null,
      "metadata": {
        "id": "j0Ssl4qupt22",
        "colab": {
          "base_uri": "https://localhost:8080/"
        },
        "outputId": "bdede1dd-74af-40c2-ef2f-13e64274e833"
      },
      "outputs": [
        {
          "output_type": "stream",
          "name": "stdout",
          "text": [
            "Epoch 1/50\n",
            "2070/2070 - 18s - loss: 2.7616 - accuracy: 0.1874 - val_loss: 2.5745 - val_accuracy: 0.2318 - 18s/epoch - 9ms/step\n",
            "Epoch 2/50\n",
            "2070/2070 - 11s - loss: 2.5333 - accuracy: 0.2372 - val_loss: 2.4771 - val_accuracy: 0.2561 - 11s/epoch - 5ms/step\n",
            "Epoch 3/50\n",
            "2070/2070 - 11s - loss: 2.4660 - accuracy: 0.2564 - val_loss: 2.4342 - val_accuracy: 0.2635 - 11s/epoch - 5ms/step\n",
            "Epoch 4/50\n",
            "2070/2070 - 11s - loss: 2.4251 - accuracy: 0.2689 - val_loss: 2.4028 - val_accuracy: 0.2716 - 11s/epoch - 5ms/step\n",
            "Epoch 5/50\n",
            "2070/2070 - 12s - loss: 2.3903 - accuracy: 0.2783 - val_loss: 2.3728 - val_accuracy: 0.2756 - 12s/epoch - 6ms/step\n",
            "Epoch 6/50\n",
            "2070/2070 - 13s - loss: 2.3598 - accuracy: 0.2863 - val_loss: 2.3525 - val_accuracy: 0.2867 - 13s/epoch - 6ms/step\n",
            "Epoch 7/50\n",
            "2070/2070 - 12s - loss: 2.3334 - accuracy: 0.2944 - val_loss: 2.3290 - val_accuracy: 0.2977 - 12s/epoch - 6ms/step\n",
            "Epoch 8/50\n",
            "2070/2070 - 11s - loss: 2.3089 - accuracy: 0.3037 - val_loss: 2.3091 - val_accuracy: 0.3039 - 11s/epoch - 5ms/step\n",
            "Epoch 9/50\n",
            "2070/2070 - 11s - loss: 2.2858 - accuracy: 0.3093 - val_loss: 2.3007 - val_accuracy: 0.3049 - 11s/epoch - 5ms/step\n",
            "Epoch 10/50\n",
            "2070/2070 - 11s - loss: 2.2650 - accuracy: 0.3171 - val_loss: 2.2849 - val_accuracy: 0.3077 - 11s/epoch - 5ms/step\n",
            "Epoch 11/50\n",
            "2070/2070 - 12s - loss: 2.2470 - accuracy: 0.3210 - val_loss: 2.2746 - val_accuracy: 0.3135 - 12s/epoch - 6ms/step\n",
            "Epoch 12/50\n",
            "2070/2070 - 11s - loss: 2.2294 - accuracy: 0.3256 - val_loss: 2.2676 - val_accuracy: 0.3169 - 11s/epoch - 5ms/step\n",
            "Epoch 13/50\n",
            "2070/2070 - 11s - loss: 2.2148 - accuracy: 0.3303 - val_loss: 2.2566 - val_accuracy: 0.3147 - 11s/epoch - 5ms/step\n",
            "Epoch 14/50\n",
            "2070/2070 - 11s - loss: 2.1993 - accuracy: 0.3357 - val_loss: 2.2561 - val_accuracy: 0.3182 - 11s/epoch - 5ms/step\n",
            "Epoch 15/50\n",
            "2070/2070 - 11s - loss: 2.1861 - accuracy: 0.3406 - val_loss: 2.2455 - val_accuracy: 0.3244 - 11s/epoch - 5ms/step\n",
            "Epoch 16/50\n",
            "2070/2070 - 11s - loss: 2.1740 - accuracy: 0.3441 - val_loss: 2.2361 - val_accuracy: 0.3258 - 11s/epoch - 5ms/step\n",
            "Epoch 17/50\n",
            "2070/2070 - 11s - loss: 2.1620 - accuracy: 0.3472 - val_loss: 2.2294 - val_accuracy: 0.3266 - 11s/epoch - 6ms/step\n",
            "Epoch 18/50\n",
            "2070/2070 - 11s - loss: 2.1509 - accuracy: 0.3524 - val_loss: 2.2276 - val_accuracy: 0.3302 - 11s/epoch - 5ms/step\n",
            "Epoch 19/50\n",
            "2070/2070 - 12s - loss: 2.1407 - accuracy: 0.3550 - val_loss: 2.2237 - val_accuracy: 0.3322 - 12s/epoch - 6ms/step\n",
            "Epoch 20/50\n",
            "2070/2070 - 12s - loss: 2.1292 - accuracy: 0.3600 - val_loss: 2.2221 - val_accuracy: 0.3344 - 12s/epoch - 6ms/step\n",
            "Epoch 21/50\n",
            "2070/2070 - 12s - loss: 2.1204 - accuracy: 0.3634 - val_loss: 2.2200 - val_accuracy: 0.3348 - 12s/epoch - 6ms/step\n",
            "Epoch 22/50\n",
            "2070/2070 - 11s - loss: 2.1112 - accuracy: 0.3651 - val_loss: 2.2144 - val_accuracy: 0.3392 - 11s/epoch - 5ms/step\n",
            "Epoch 23/50\n",
            "2070/2070 - 12s - loss: 2.1019 - accuracy: 0.3684 - val_loss: 2.2111 - val_accuracy: 0.3418 - 12s/epoch - 6ms/step\n",
            "Epoch 24/50\n",
            "2070/2070 - 11s - loss: 2.0928 - accuracy: 0.3720 - val_loss: 2.2112 - val_accuracy: 0.3419 - 11s/epoch - 5ms/step\n",
            "Epoch 25/50\n",
            "2070/2070 - 11s - loss: 2.0858 - accuracy: 0.3747 - val_loss: 2.2092 - val_accuracy: 0.3416 - 11s/epoch - 5ms/step\n",
            "Epoch 26/50\n",
            "2070/2070 - 11s - loss: 2.0782 - accuracy: 0.3773 - val_loss: 2.2019 - val_accuracy: 0.3454 - 11s/epoch - 5ms/step\n",
            "Epoch 27/50\n",
            "2070/2070 - 11s - loss: 2.0717 - accuracy: 0.3799 - val_loss: 2.2031 - val_accuracy: 0.3456 - 11s/epoch - 5ms/step\n",
            "Epoch 28/50\n",
            "2070/2070 - 11s - loss: 2.0644 - accuracy: 0.3828 - val_loss: 2.1968 - val_accuracy: 0.3467 - 11s/epoch - 5ms/step\n",
            "Epoch 29/50\n",
            "2070/2070 - 11s - loss: 2.0576 - accuracy: 0.3844 - val_loss: 2.1965 - val_accuracy: 0.3507 - 11s/epoch - 5ms/step\n",
            "Epoch 30/50\n",
            "2070/2070 - 11s - loss: 2.0510 - accuracy: 0.3865 - val_loss: 2.1929 - val_accuracy: 0.3485 - 11s/epoch - 5ms/step\n",
            "Epoch 31/50\n",
            "2070/2070 - 11s - loss: 2.0444 - accuracy: 0.3892 - val_loss: 2.1992 - val_accuracy: 0.3470 - 11s/epoch - 5ms/step\n",
            "Epoch 32/50\n",
            "2070/2070 - 12s - loss: 2.0388 - accuracy: 0.3907 - val_loss: 2.1960 - val_accuracy: 0.3530 - 12s/epoch - 6ms/step\n",
            "Epoch 33/50\n",
            "2070/2070 - 11s - loss: 2.0330 - accuracy: 0.3913 - val_loss: 2.1982 - val_accuracy: 0.3515 - 11s/epoch - 5ms/step\n",
            "Epoch 34/50\n",
            "2070/2070 - 11s - loss: 2.0277 - accuracy: 0.3938 - val_loss: 2.1909 - val_accuracy: 0.3539 - 11s/epoch - 5ms/step\n",
            "Epoch 35/50\n",
            "2070/2070 - 10s - loss: 2.0218 - accuracy: 0.3953 - val_loss: 2.1950 - val_accuracy: 0.3530 - 10s/epoch - 5ms/step\n",
            "Epoch 36/50\n",
            "2070/2070 - 11s - loss: 2.0166 - accuracy: 0.3972 - val_loss: 2.1951 - val_accuracy: 0.3531 - 11s/epoch - 5ms/step\n",
            "Epoch 37/50\n",
            "2070/2070 - 11s - loss: 2.0122 - accuracy: 0.3988 - val_loss: 2.1902 - val_accuracy: 0.3568 - 11s/epoch - 5ms/step\n",
            "Epoch 38/50\n",
            "2070/2070 - 12s - loss: 2.0072 - accuracy: 0.3982 - val_loss: 2.1920 - val_accuracy: 0.3504 - 12s/epoch - 6ms/step\n",
            "Epoch 39/50\n",
            "2070/2070 - 12s - loss: 2.0024 - accuracy: 0.4004 - val_loss: 2.1967 - val_accuracy: 0.3539 - 12s/epoch - 6ms/step\n",
            "Epoch 40/50\n",
            "2070/2070 - 11s - loss: 1.9984 - accuracy: 0.4020 - val_loss: 2.1931 - val_accuracy: 0.3537 - 11s/epoch - 5ms/step\n"
          ]
        }
      ],
      "source": [
        "h = model.fit(\n",
        "    x_train, y_train,\n",
        "    validation_data = (x_test, y_test),\n",
        "    epochs = 50, verbose = 2,\n",
        "    callbacks = [\n",
        "                  tf.keras.callbacks.EarlyStopping(monitor='val_accuracy', patience = 3)\n",
        "    ]\n",
        ")"
      ]
    },
    {
      "cell_type": "code",
      "source": [
        "from matplotlib import pyplot as plt\n",
        "\n",
        "epochs_ran = len(h.history['loss'])\n",
        "\n",
        "plt.plot(range(0, epochs_ran), h.history['val_accuracy'], label = 'Validation')\n",
        "plt.plot(range(0, epochs_ran), h.history['accuracy'], label = 'Training')\n",
        "plt.legend()\n",
        "plt.show()"
      ],
      "metadata": {
        "colab": {
          "base_uri": "https://localhost:8080/",
          "height": 430
        },
        "id": "EtjtJxEgpx1W",
        "outputId": "d49387d9-1dc5-4361-a829-0f510aacb3de"
      },
      "execution_count": null,
      "outputs": [
        {
          "output_type": "display_data",
          "data": {
            "text/plain": [
              "<Figure size 640x480 with 1 Axes>"
            ],
            "image/png": "[encoded data removed]"
          },
          "metadata": {}
        }
      ]
    },
    {
      "cell_type": "markdown",
      "metadata": {
        "id": "mm3QTybFcuZo"
      },
      "source": [
        "## Task 8: Generate Names!"
      ]
    },
    {
      "cell_type": "code",
      "execution_count": null,
      "metadata": {
        "id": "9f50aTRcpt24"
      },
      "outputs": [],
      "source": [
        "def generate_names(seed):\n",
        "  for i in range(0, 40):\n",
        "    seq = name_to_seq(seed)\n",
        "    padded = tf.keras.preprocessing.sequence.pad_sequences([seq], padding = 'pre',\n",
        "                                                           maxlen = max_len - 1,\n",
        "                                                           truncating = 'pre')\n",
        "    pred = model.predict(padded)[0]\n",
        "    pred_char = idx_to_char[tf.argmax(pred).numpy()]\n",
        "    seed += pred_char\n",
        "\n",
        "    if pred_char == '\\t':\n",
        "      break\n",
        "  print(seed)"
      ]
    },
    {
      "cell_type": "code",
      "execution_count": null,
      "metadata": {
        "id": "faQ0FInlpt26",
        "colab": {
          "base_uri": "https://localhost:8080/"
        },
        "outputId": "37402af9-d704-43b2-eb70-2ddf2ec7928e"
      },
      "outputs": [
        {
          "output_type": "stream",
          "name": "stdout",
          "text": [
            "1/1 [==============================] - 0s 28ms/step\n",
            "1/1 [==============================] - 0s 42ms/step\n",
            "1/1 [==============================] - 0s 43ms/step\n",
            "1/1 [==============================] - 0s 28ms/step\n",
            "1/1 [==============================] - 0s 35ms/step\n",
            "1/1 [==============================] - 0s 31ms/step\n",
            "1/1 [==============================] - 0s 21ms/step\n",
            "1/1 [==============================] - 0s 19ms/step\n",
            "1/1 [==============================] - 0s 20ms/step\n",
            "1/1 [==============================] - 0s 20ms/step\n",
            "1/1 [==============================] - 0s 17ms/step\n",
            "1/1 [==============================] - 0s 19ms/step\n",
            "1/1 [==============================] - 0s 22ms/step\n",
            "strong the stark\t\n"
          ]
        }
      ],
      "source": [
        "generate_names('stro')"
      ]
    }
  ],
  "metadata": {
    "accelerator": "GPU",
    "colab": {
      "provenance": []
    },
    "kernelspec": {
      "display_name": "Python 3",
      "language": "python",
      "name": "python3"
    },
    "language_info": {
      "codemirror_mode": {
        "name": "ipython",
        "version": 3
      },
      "file_extension": ".py",
      "mimetype": "text/x-python",
      "name": "python",
      "nbconvert_exporter": "python",
      "pygments_lexer": "ipython3",
      "version": "3.8.3"
    }
  },
  "nbformat": 4,
  "nbformat_minor": 0
}
